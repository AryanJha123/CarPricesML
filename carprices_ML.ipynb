{
 "cells": [
  {
   "cell_type": "code",
   "execution_count": 1,
   "id": "e5098301-e0e3-42be-9ea9-e7307a16b986",
   "metadata": {},
   "outputs": [],
   "source": [
    "import tensorflow as tf\n",
    "import keras\n",
    "import pandas as pd\n",
    "from keras.models import Sequential\n",
    "from keras.layers import Dense\n",
    "import numpy as np\n",
    "import matplotlib.pyplot as plt\n",
    "from keras.callbacks import EarlyStopping\n",
    "from sklearn.metrics import accuracy_score\n",
    "from keras import layers"
   ]
  },
  {
   "cell_type": "code",
   "execution_count": 2,
   "id": "a155d46a-f4a6-4bdd-a24e-eca4c6e49902",
   "metadata": {},
   "outputs": [
    {
     "name": "stdout",
     "output_type": "stream",
     "text": [
      "       year    make                model        trim   body transmission  \\\n",
      "0      2015     Kia              Sorento          LX    SUV    automatic   \n",
      "1      2015     Kia              Sorento          LX    SUV    automatic   \n",
      "2      2014     BMW             3 Series  328i SULEV  Sedan    automatic   \n",
      "3      2015   Volvo                  S60          T5  Sedan    automatic   \n",
      "4      2014     BMW  6 Series Gran Coupe        650i  Sedan    automatic   \n",
      "...     ...     ...                  ...         ...    ...          ...   \n",
      "65494  2011  Toyota    Highlander Hybrid        Base    SUV    automatic   \n",
      "65495  2011  Toyota           Highlander        Base    SUV    automatic   \n",
      "65496  2011  Toyota                 RAV4        Base    SUV    automatic   \n",
      "65497  2011  Toyota              Corolla          LE  Sedan    automatic   \n",
      "65498  2011  Toyota                Camry          LE  Sedan    automatic   \n",
      "\n",
      "                     vin state  condition  odometer   color interior  \\\n",
      "0      5xyktca69fg566472    ca        5.0   16639.0   white    black   \n",
      "1      5xyktca69fg561319    ca        5.0    9393.0   white    beige   \n",
      "2      wba3c1c51ek116351    ca        4.5    1331.0    gray    black   \n",
      "3      yv1612tb4f1310987    ca        4.1   14282.0   white    black   \n",
      "4      wba6b2c57ed129731    ca        4.3    2641.0    gray    black   \n",
      "...                  ...   ...        ...       ...     ...      ...   \n",
      "65494  jtebc3ehxb2000428    pa        3.6   51186.0   black     gray   \n",
      "65495  5tdza3ehxbs015965    nj        2.7   34430.0   white     gray   \n",
      "65496  2t3jf4dv1bw166249    tn        3.7   13607.0    gold      tan   \n",
      "65497  2t1bu4ee6bc622524    fl        4.3   41168.0  silver     gray   \n",
      "65498  4t1bf3ek9bu591696    tx        2.9   80681.0   beige      tan   \n",
      "\n",
      "                                       seller    mmr  sellingprice  \\\n",
      "0                     kia motors america, inc  20500         21500   \n",
      "1                     kia motors america, inc  20800         21500   \n",
      "2      financial services remarketing (lease)  31900         30000   \n",
      "3                     volvo na rep/world omni  27500         27750   \n",
      "4      financial services remarketing (lease)  66000         67000   \n",
      "...                                       ...    ...           ...   \n",
      "65494                         manheim imports  24200         22100   \n",
      "65495               toyota financial services  18150         18500   \n",
      "65496               toyota financial services  15950         16100   \n",
      "65497                       toyota of orlando   9675         10400   \n",
      "65498                    hopper motorplex inc   9600          9000   \n",
      "\n",
      "                                      saledate  \n",
      "0      Tue Dec 16 2014 12:30:00 GMT-0800 (PST)  \n",
      "1      Tue Dec 16 2014 12:30:00 GMT-0800 (PST)  \n",
      "2      Thu Jan 15 2015 04:30:00 GMT-0800 (PST)  \n",
      "3      Thu Jan 29 2015 04:30:00 GMT-0800 (PST)  \n",
      "4      Thu Dec 18 2014 12:30:00 GMT-0800 (PST)  \n",
      "...                                        ...  \n",
      "65494  Fri Jan 02 2015 09:00:00 GMT-0800 (PST)  \n",
      "65495  Wed Dec 31 2014 09:30:00 GMT-0800 (PST)  \n",
      "65496  Wed Dec 31 2014 10:30:00 GMT-0800 (PST)  \n",
      "65497  Tue Dec 30 2014 09:30:00 GMT-0800 (PST)  \n",
      "65498  Fri Jan 02 2015 11:00:00 GMT-0800 (PST)  \n",
      "\n",
      "[65499 rows x 16 columns]\n"
     ]
    }
   ],
   "source": [
    "df_raw= pd.read_csv('/Users/aryanjha/Downloads/car_prices.csv')\n",
    "print(df_raw)"
   ]
  },
  {
   "cell_type": "code",
   "execution_count": 8,
   "id": "3ec7ee08-93d1-4435-a41b-d182e3cbe3ac",
   "metadata": {},
   "outputs": [
    {
     "name": "stderr",
     "output_type": "stream",
     "text": [
      "/Library/Frameworks/Python.framework/Versions/3.9/lib/python3.9/site-packages/pandas/core/frame.py:4901: SettingWithCopyWarning: \n",
      "A value is trying to be set on a copy of a slice from a DataFrame\n",
      "\n",
      "See the caveats in the documentation: https://pandas.pydata.org/pandas-docs/stable/user_guide/indexing.html#returning-a-view-versus-a-copy\n",
      "  return super().drop(\n"
     ]
    },
    {
     "name": "stdout",
     "output_type": "stream",
     "text": [
      "Epoch 1/10\n",
      "1167/1167 [==============================] - 82s 69ms/step - loss: 116128424.0000\n",
      "Epoch 2/10\n",
      "1167/1167 [==============================] - 79s 68ms/step - loss: 111599656.0000\n",
      "Epoch 3/10\n",
      "1167/1167 [==============================] - 91s 78ms/step - loss: 104950232.0000\n",
      "Epoch 4/10\n",
      "1167/1167 [==============================] - 80s 68ms/step - loss: 103894408.0000\n",
      "Epoch 5/10\n",
      "1167/1167 [==============================] - 80s 69ms/step - loss: 102207536.0000\n",
      "Epoch 6/10\n",
      "1167/1167 [==============================] - 85s 73ms/step - loss: 103731232.0000\n",
      "Epoch 7/10\n",
      "1167/1167 [==============================] - 88s 76ms/step - loss: 106310840.0000\n",
      "Epoch 8/10\n",
      "1167/1167 [==============================] - 92s 79ms/step - loss: 104317848.0000\n",
      "Epoch 9/10\n",
      "1167/1167 [==============================] - 100s 85ms/step - loss: 104819016.0000\n",
      "Epoch 10/10\n",
      "1167/1167 [==============================] - 87s 74ms/step - loss: 103721512.0000\n"
     ]
    },
    {
     "data": {
      "text/plain": [
       "<keras.callbacks.History at 0x1573deb80>"
      ]
     },
     "execution_count": 8,
     "metadata": {},
     "output_type": "execute_result"
    }
   ],
   "source": [
    "\n",
    "# importing the dataset\n",
    "df_raw= pd.read_csv('/Users/aryanjha/Downloads/car_prices.csv')\n",
    "df = df_raw.dropna()\n",
    "df.drop(['vin'],axis=1,inplace=True)\n",
    "df.drop(['mmr'],axis=1,inplace=True)\n",
    "df.drop(['saledate'],axis=1,inplace=True)\n",
    "df.drop(['seller'],axis=1,inplace=True)\n",
    "df.drop(['transmission'],axis=1,inplace=True)\n",
    "\n",
    "# one-hot encoding the country column and the banking_crisis column\n",
    "df = pd.concat([df, pd.get_dummies(df['make'], prefix='make')], axis=1)\n",
    "df = pd.concat([df, pd.get_dummies(df['model'], prefix='model')], axis=1)\n",
    "df = pd.concat([df, pd.get_dummies(df['trim'], prefix='trim')], axis=1)\n",
    "df = pd.concat([df, pd.get_dummies(df['body'], prefix='body')], axis=1)\n",
    "df = pd.concat([df, pd.get_dummies(df['state'], prefix='state')], axis=1)\n",
    "df = pd.concat([df, pd.get_dummies(df['color'], prefix='color')], axis=1)\n",
    "df = pd.concat([df, pd.get_dummies(df['interior'], prefix='interior')], axis=1)\n",
    "df.drop(['make'],axis=1,inplace=True)\n",
    "df.drop(['model'],axis=1,inplace=True)\n",
    "df.drop(['trim'],axis=1,inplace=True)\n",
    "df.drop(['body'],axis=1,inplace=True)\n",
    "df.drop(['state'],axis=1,inplace=True)\n",
    "df.drop(['color'],axis=1,inplace=True)\n",
    "df.drop(['interior'],axis=1,inplace=True) \n",
    "\n",
    "\n",
    "# specifying data and labels\n",
    "labels = df.iloc[:37316, [0, 1, 2, 4, 5, 6, 7, 8, 9,10, 11, 12, 13, 14, 15, 16, 17, 18, 19, 20, 21]]\n",
    "data = df.iloc[:37316,3]\n",
    "\n",
    "# creating the model\n",
    "model = Sequential()\n",
    "model.add(layers.Dropout(0.2, input_shape=(21,)))\n",
    "model.add(Dense(1000, activation='relu'))\n",
    "model.add(layers.Dropout(0.2))\n",
    "model.add(Dense(1000, activation='relu'))\n",
    "model.add(layers.Dropout(0.2))\n",
    "model.add(Dense(1000, activation='relu'))\n",
    "model.add(layers.Dropout(0.2))\n",
    "model.add(Dense(1000, activation='relu'))\n",
    "model.add(layers.Dropout(0.2))\n",
    "model.add(Dense(1000, activation='relu'))\n",
    "model.add(layers.Dropout(0.2))\n",
    "model.add(Dense(21, activation='relu'))\n",
    "# use government sites for weather\n",
    "\n",
    "# 4 hidden layers of 1000: mse of 55542088\n",
    "\n",
    "# Compile model\n",
    "model.compile(loss='mse', optimizer='adam')\n",
    " \n",
    "# Fit the model\n",
    "model.fit(labels, data, epochs=10)\n"
   ]
  },
  {
   "cell_type": "code",
   "execution_count": 47,
   "id": "e66778b7-1403-4f44-b896-12b7428b50ae",
   "metadata": {},
   "outputs": [
    {
     "name": "stdout",
     "output_type": "stream",
     "text": [
      "[18227.473 19175.68  18766.729 ... 21835.365 17203.57  10048.969]\n",
      "37494    25200\n",
      "37496    23900\n",
      "37497    24600\n",
      "37498    21500\n",
      "37499    20670\n",
      "         ...  \n",
      "65494    22100\n",
      "65495    18500\n",
      "65496    16100\n",
      "65497    10400\n",
      "65498     9000\n",
      "Name: sellingprice, Length: 23323, dtype: int64\n"
     ]
    },
    {
     "data": {
      "text/plain": [
       "46262013.213063404"
      ]
     },
     "execution_count": 47,
     "metadata": {},
     "output_type": "execute_result"
    },
    {
     "data": {
      "application/javascript": [
       "$(document).ready(\n",
       "    function() {\n",
       "        function appendUniqueDiv(){\n",
       "            // append a div with our uuid so we can check that it's already\n",
       "            // been sent and avoid duplicates on page reload\n",
       "            var notifiedDiv = document.createElement(\"div\")\n",
       "            notifiedDiv.id = \"90060053-2981-48db-9f6e-88c7182b3aa9\"\n",
       "            element.append(notifiedDiv)\n",
       "        }\n",
       "\n",
       "        // only send notifications if the pageload is complete; this will\n",
       "        // help stop extra notifications when a saved notebook is loaded,\n",
       "        // which during testing gives us state \"interactive\", not \"complete\"\n",
       "        if (document.readyState === 'complete') {\n",
       "            // check for the div that signifies that the notification\n",
       "            // was already sent\n",
       "            if (document.getElementById(\"90060053-2981-48db-9f6e-88c7182b3aa9\") === null) {\n",
       "                var notificationPayload = {\"requireInteraction\": false, \"icon\": \"/static/base/images/favicon.ico\", \"body\": \"Cell execution has finished!\", \"only_in_background\": false};\n",
       "\n",
       "                // We have a notification but the window is active\n",
       "                if (notificationPayload.only_in_background && !window.jupyterNotifyIsInBackground) {\n",
       "                    appendUniqueDiv();\n",
       "                    return;\n",
       "                }\n",
       "                if (Notification.permission !== 'denied') {\n",
       "                    if (Notification.permission !== 'granted') { \n",
       "                        Notification.requestPermission(function (permission) {\n",
       "                            if(!('permission' in Notification)) {\n",
       "                                Notification.permission = permission\n",
       "                            }\n",
       "                        })\n",
       "                    }\n",
       "                    if (Notification.permission === 'granted') {\n",
       "                    var notification = new Notification(\"Jupyter Notebook\", notificationPayload)\n",
       "                    appendUniqueDiv()\n",
       "                    notification.onclick = function () {\n",
       "                        window.focus();\n",
       "                        this.close();\n",
       "                        };\n",
       "                    } \n",
       "                }     \n",
       "            }\n",
       "        }\n",
       "    }\n",
       ")\n"
      ],
      "text/plain": [
       "<IPython.core.display.Javascript object>"
      ]
     },
     "metadata": {},
     "output_type": "display_data"
    }
   ],
   "source": [
    "data_test = df.iloc[37317:, 3]\n",
    "label_test = df.iloc[37317:, [0, 1, 2, 4, 5, 6, 7, 8, 9, 10, 11, 12, 13, 14, 15, 16, 17, 18, 19, 20, 21]]\n",
    "\n",
    "predictions = model.predict(label_test)\n",
    "predictions_flat = predictions.mean(axis=1)\n",
    "print(predictions_flat)\n",
    "print(data_test)\n",
    "# defining mse function\n",
    "def mse_predict(data, pred): \n",
    "    actual, pred = np.array(data), np.array(pred)\n",
    "    return np.square(np.subtract(data, pred)).mean() \n",
    "mse_predict(data_test, predictions_flat)"
   ]
  }
 ],
 "metadata": {
  "kernelspec": {
   "display_name": "Python 3 (ipykernel)",
   "language": "python",
   "name": "python3"
  },
  "language_info": {
   "codemirror_mode": {
    "name": "ipython",
    "version": 3
   },
   "file_extension": ".py",
   "mimetype": "text/x-python",
   "name": "python",
   "nbconvert_exporter": "python",
   "pygments_lexer": "ipython3",
   "version": "3.9.4"
  }
 },
 "nbformat": 4,
 "nbformat_minor": 5
}
